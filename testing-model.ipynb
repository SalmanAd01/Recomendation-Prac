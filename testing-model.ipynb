{
 "cells": [
  {
   "cell_type": "code",
   "execution_count": 2,
   "metadata": {},
   "outputs": [],
   "source": [
    "import pandas as pd\n",
    "import pickle\n",
    "import numpy as np"
   ]
  },
  {
   "cell_type": "code",
   "execution_count": 15,
   "metadata": {},
   "outputs": [],
   "source": [
    "from sklearn.feature_extraction.text import CountVectorizer\n",
    "from sklearn.metrics.pairwise import cosine_similarity\n",
    "def create_similarity():\n",
    "    data = pd.read_csv('problem-detaset.csv')\n",
    "    cv = CountVectorizer()\n",
    "    count_matrix = cv.fit_transform(data['tags']).toarray()\n",
    "    similarity = cosine_similarity(count_matrix)\n",
    "    return data,similarity"
   ]
  },
  {
   "cell_type": "code",
   "execution_count": 16,
   "metadata": {},
   "outputs": [],
   "source": [
    "def recommended(tag,id,with_url=None,lenght=10):\n",
    "    tag = tag.lower()\n",
    "    data, similarity = create_similarity()\n",
    "    if tag not in data['tags'].unique():\n",
    "        return('Tag not found')\n",
    "    else:\n",
    "        try:\n",
    "            i = data[(data['tags']==tag)].index[0]\n",
    "            lst = list(enumerate(similarity[i]))\n",
    "            lst = sorted(lst, key = lambda x:x[1] ,reverse=True)\n",
    "            l = []\n",
    "            for i in range((lenght)+1):\n",
    "                a = lst[i][0]\n",
    "                temp =[]\n",
    "                if data['id'][a]==id:\n",
    "                    lenght+=1\n",
    "                    continue\n",
    "                if with_url is None:\n",
    "                    temp.append(data['tags'][a])\n",
    "                    temp.append(data['id'][a])\n",
    "                else:\n",
    "                    temp.append(data['tags'][a])\n",
    "                    url = 'http://arena.siesgst.ac.in/contest/'+str(data['contestCode'][a])+'/problem/'+str(data['code'][a])\n",
    "                    temp.append(url)\n",
    "                l.append(temp)\n",
    "            return l\n",
    "        except Exception as e:\n",
    "            print(e)\n",
    "            return('No data found')"
   ]
  },
  {
   "cell_type": "code",
   "execution_count": 22,
   "metadata": {},
   "outputs": [
    {
     "name": "stdout",
     "output_type": "stream",
     "text": [
      "[['cakewalk', 'http://arena.siesgst.ac.in/contest/UNIVERSE/problem/UNI02'], ['cakewalk', 'http://arena.siesgst.ac.in/contest/UNIVERSE/problem/UNI04'], ['cakewalk', 'http://arena.siesgst.ac.in/contest/SRM22/problem/SRM22A'], ['cakewalk  math', 'http://arena.siesgst.ac.in/contest/SRM10/problem/SRM10A'], ['adhoc  cakewalk', 'http://arena.siesgst.ac.in/contest/SRM12/problem/SRM12A'], ['math', 'http://arena.siesgst.ac.in/contest/UNIVERSE/problem/UNI01'], ['math', 'http://arena.siesgst.ac.in/contest/UNIVERSE/problem/UNI05'], ['math  strings', 'http://arena.siesgst.ac.in/contest/UNIVERSE/problem/UNI06'], ['adhoc  strings', 'http://arena.siesgst.ac.in/contest/AUG18/problem/AUG18A'], ['adhoc  math', 'http://arena.siesgst.ac.in/contest/AUG18/problem/AUG18B']]\n",
      "\n",
      "\n",
      "\n",
      "[['cakewalk', '5c39eca03646190022847c54'], ['cakewalk', '5c39f0543646190022847c61'], ['cakewalk', '60fa79a49e8f310022c7d341'], ['cakewalk  math', '5d46f3ce86031f00223f4ce7'], ['adhoc  cakewalk', '5d7a599fb112e300220a44d0'], ['math', '5b5c8cd7276e2200208fed62'], ['math', '5c39f1023646190022847c62'], ['math  strings', '5c39f4af80aaed0022b63275'], ['adhoc  strings', '5b645f711b2cd40020b6c771'], ['adhoc  math', '5b649819c0b1b80020eb30e1']] 10\n",
      "\n",
      "\n",
      "\n",
      "[['cakewalk', '5c39eca03646190022847c54'], ['cakewalk', '5c39f0543646190022847c61'], ['cakewalk', '60fa79a49e8f310022c7d341'], ['cakewalk  math', '5d46f3ce86031f00223f4ce7'], ['adhoc  cakewalk', '5d7a599fb112e300220a44d0'], ['math', '5b5c8cd7276e2200208fed62']] 6\n"
     ]
    }
   ],
   "source": [
    "r = recommended('cakewalk','5c39f0543646190022847c61',with_url=True)\n",
    "print(r)\n",
    "print(\"\\n\\n\")\n",
    "r = recommended('cakewalk','5c39ed573646190022847c59')\n",
    "print((r),len(r))\n",
    "print(\"\\n\\n\")\n",
    "r = recommended('cakewalk','5c39ed573646190022847c59',lenght=6)\n",
    "print((r),len(r))\n"
   ]
  },
  {
   "cell_type": "code",
   "execution_count": 20,
   "metadata": {},
   "outputs": [],
   "source": [
    "def prevoius_solve_tag(username):\n",
    "    pass"
   ]
  },
  {
   "cell_type": "code",
   "execution_count": 21,
   "metadata": {},
   "outputs": [
    {
     "data": {
      "text/html": [
       "<div>\n",
       "<style scoped>\n",
       "    .dataframe tbody tr th:only-of-type {\n",
       "        vertical-align: middle;\n",
       "    }\n",
       "\n",
       "    .dataframe tbody tr th {\n",
       "        vertical-align: top;\n",
       "    }\n",
       "\n",
       "    .dataframe thead th {\n",
       "        text-align: right;\n",
       "    }\n",
       "</style>\n",
       "<table border=\"1\" class=\"dataframe\">\n",
       "  <thead>\n",
       "    <tr style=\"text-align: right;\">\n",
       "      <th></th>\n",
       "      <th>id</th>\n",
       "      <th>name</th>\n",
       "      <th>code</th>\n",
       "      <th>points</th>\n",
       "      <th>contestCode</th>\n",
       "      <th>tags</th>\n",
       "    </tr>\n",
       "  </thead>\n",
       "  <tbody>\n",
       "    <tr>\n",
       "      <th>2</th>\n",
       "      <td>5c39f0543646190022847c61</td>\n",
       "      <td>Vowel Shovel</td>\n",
       "      <td>UNI03</td>\n",
       "      <td>0</td>\n",
       "      <td>UNIVERSE</td>\n",
       "      <td>cakewalk</td>\n",
       "    </tr>\n",
       "  </tbody>\n",
       "</table>\n",
       "</div>"
      ],
      "text/plain": [
       "                         id          name   code  points contestCode      tags\n",
       "2  5c39f0543646190022847c61  Vowel Shovel  UNI03       0    UNIVERSE  cakewalk"
      ]
     },
     "execution_count": 21,
     "metadata": {},
     "output_type": "execute_result"
    }
   ],
   "source": [
    "data = pd.read_csv('problem-detaset.csv')\n",
    "data[data['id']=='5c39f0543646190022847c61']"
   ]
  }
 ],
 "metadata": {
  "interpreter": {
   "hash": "7085220a67382105aa5b4c484e92d6d1458310670eac078ca44f98015c944f25"
  },
  "kernelspec": {
   "display_name": "Python 3.9.7 64-bit",
   "language": "python",
   "name": "python3"
  },
  "language_info": {
   "codemirror_mode": {
    "name": "ipython",
    "version": 3
   },
   "file_extension": ".py",
   "mimetype": "text/x-python",
   "name": "python",
   "nbconvert_exporter": "python",
   "pygments_lexer": "ipython3",
   "version": "3.9.7"
  },
  "orig_nbformat": 4
 },
 "nbformat": 4,
 "nbformat_minor": 2
}
