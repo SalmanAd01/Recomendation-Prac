{
 "cells": [
  {
   "cell_type": "code",
   "execution_count": 164,
   "metadata": {},
   "outputs": [],
   "source": [
    "import pandas as pd\n",
    "import pickle\n",
    "import numpy as np"
   ]
  },
  {
   "cell_type": "code",
   "execution_count": 165,
   "metadata": {},
   "outputs": [],
   "source": [
    "from sklearn.feature_extraction.text import CountVectorizer\n",
    "from sklearn.metrics.pairwise import cosine_similarity\n",
    "def create_similarity():\n",
    "    data = pd.read_csv('problem-detaset.csv')\n",
    "    cv = CountVectorizer()\n",
    "    data['tags'] = data['tags'].astype('string')\n",
    "    count_matrix = cv.fit_transform(data['tags']).toarray()\n",
    "    similarity = cosine_similarity(count_matrix)\n",
    "    return data,similarity"
   ]
  },
  {
   "cell_type": "code",
   "execution_count": 166,
   "metadata": {},
   "outputs": [],
   "source": [
    "def recommended(tag,id,with_url=None,lenght=10):\n",
    "    tag = tag.lower()\n",
    "    data, similarity = create_similarity()\n",
    "    print(data.dtypes)\n",
    "    if tag not in data['tags'].unique():\n",
    "        return('Tag not found')\n",
    "    else:\n",
    "        try:\n",
    "            i = data[(data['tags']==tag)].index[0]\n",
    "            lst = list(enumerate(similarity[i]))\n",
    "            lst = sorted(lst, key = lambda x:x[1] ,reverse=True)\n",
    "            l = []\n",
    "            for i in range((lenght)+1):\n",
    "                a = lst[i][0]\n",
    "                temp =[]\n",
    "                if data['id'][a]==id:\n",
    "                    lenght+=1\n",
    "                    continue\n",
    "                if with_url is None:\n",
    "                    temp.append(data['tags'][a])\n",
    "                    temp.append(data['id'][a])\n",
    "                else:\n",
    "                    temp.append(data['tags'][a])\n",
    "                    url = 'http://arena.siesgst.ac.in/contest/'+str(data['contestCode'][a])+'/problem/'+str(data['code'][a])\n",
    "                    temp.append(url)\n",
    "                l.append(temp)\n",
    "            return l\n",
    "        except Exception as e:\n",
    "            print(e)\n",
    "            return('No data found')"
   ]
  },
  {
   "cell_type": "code",
   "execution_count": 167,
   "metadata": {},
   "outputs": [
    {
     "name": "stdout",
     "output_type": "stream",
     "text": [
      "id             object\n",
      "name           object\n",
      "code           object\n",
      "points          int64\n",
      "contestCode    object\n",
      "tags           string\n",
      "dtype: object\n",
      "[['cakewalk', 'http://arena.siesgst.ac.in/contest/UNIVERSE/problem/UNI02'], ['cakewalk', 'http://arena.siesgst.ac.in/contest/UNIVERSE/problem/UNI04'], ['cakewalk', 'http://arena.siesgst.ac.in/contest/SRM22/problem/SRM22A'], ['cakewalk math', 'http://arena.siesgst.ac.in/contest/SRM10/problem/SRM10A'], ['adhoc cakewalk', 'http://arena.siesgst.ac.in/contest/SRM12/problem/SRM12A'], ['math', 'http://arena.siesgst.ac.in/contest/UNIVERSE/problem/UNI01'], ['math', 'http://arena.siesgst.ac.in/contest/UNIVERSE/problem/UNI05'], ['math strings', 'http://arena.siesgst.ac.in/contest/UNIVERSE/problem/UNI06'], ['adhoc strings', 'http://arena.siesgst.ac.in/contest/AUG18/problem/AUG18A'], ['adhoc math', 'http://arena.siesgst.ac.in/contest/AUG18/problem/AUG18B']]\n",
      "\n",
      "\n",
      "\n",
      "id             object\n",
      "name           object\n",
      "code           object\n",
      "points          int64\n",
      "contestCode    object\n",
      "tags           string\n",
      "dtype: object\n",
      "[['cakewalk', '5c39eca03646190022847c54'], ['cakewalk', '5c39f0543646190022847c61'], ['cakewalk', '60fa79a49e8f310022c7d341'], ['cakewalk math', '5d46f3ce86031f00223f4ce7'], ['adhoc cakewalk', '5d7a599fb112e300220a44d0'], ['math', '5b5c8cd7276e2200208fed62'], ['math', '5c39f1023646190022847c62'], ['math strings', '5c39f4af80aaed0022b63275'], ['adhoc strings', '5b645f711b2cd40020b6c771'], ['adhoc math', '5b649819c0b1b80020eb30e1']] 10\n",
      "\n",
      "\n",
      "\n",
      "id             object\n",
      "name           object\n",
      "code           object\n",
      "points          int64\n",
      "contestCode    object\n",
      "tags           string\n",
      "dtype: object\n",
      "[['cakewalk', '5c39eca03646190022847c54'], ['cakewalk', '5c39f0543646190022847c61'], ['cakewalk', '60fa79a49e8f310022c7d341'], ['cakewalk math', '5d46f3ce86031f00223f4ce7'], ['adhoc cakewalk', '5d7a599fb112e300220a44d0'], ['math', '5b5c8cd7276e2200208fed62']] 6\n"
     ]
    }
   ],
   "source": [
    "r = recommended('cakewalk','5c39f0543646190022847c61',with_url=True)\n",
    "print(r)\n",
    "print(\"\\n\\n\")\n",
    "r = recommended('cakewalk','5c39ed573646190022847c59')\n",
    "print((r),len(r))\n",
    "print(\"\\n\\n\")\n",
    "r = recommended('cakewalk','5c39ed573646190022847c59',lenght=6)\n",
    "print((r),len(r))\n"
   ]
  },
  {
   "cell_type": "code",
   "execution_count": 168,
   "metadata": {},
   "outputs": [],
   "source": [
    "def prevoius_solve_tag(username):\n",
    "    pass"
   ]
  },
  {
   "cell_type": "code",
   "execution_count": 169,
   "metadata": {},
   "outputs": [
    {
     "data": {
      "text/plain": [
       "id             object\n",
       "name           object\n",
       "code           object\n",
       "points          int64\n",
       "contestCode    object\n",
       "tags           object\n",
       "dtype: object"
      ]
     },
     "execution_count": 169,
     "metadata": {},
     "output_type": "execute_result"
    }
   ],
   "source": [
    "data = pd.read_csv('problem-detaset.csv')\n",
    "data[data['id']=='5c39f0543646190022847c61']\n",
    "data.dtypes"
   ]
  },
  {
   "cell_type": "code",
   "execution_count": 170,
   "metadata": {},
   "outputs": [
    {
     "data": {
      "text/plain": [
       "id             object\n",
       "name           object\n",
       "code           object\n",
       "points          int64\n",
       "contestCode    object\n",
       "tags           string\n",
       "dtype: object"
      ]
     },
     "execution_count": 170,
     "metadata": {},
     "output_type": "execute_result"
    }
   ],
   "source": [
    "data['tags'] = data['tags'].astype('string')\n",
    "data.dtypes"
   ]
  },
  {
   "cell_type": "markdown",
   "metadata": {},
   "source": [
    "## Evaluating"
   ]
  },
  {
   "cell_type": "code",
   "execution_count": 171,
   "metadata": {},
   "outputs": [
    {
     "data": {
      "text/html": [
       "<div>\n",
       "<style scoped>\n",
       "    .dataframe tbody tr th:only-of-type {\n",
       "        vertical-align: middle;\n",
       "    }\n",
       "\n",
       "    .dataframe tbody tr th {\n",
       "        vertical-align: top;\n",
       "    }\n",
       "\n",
       "    .dataframe thead th {\n",
       "        text-align: right;\n",
       "    }\n",
       "</style>\n",
       "<table border=\"1\" class=\"dataframe\">\n",
       "  <thead>\n",
       "    <tr style=\"text-align: right;\">\n",
       "      <th></th>\n",
       "      <th>tags</th>\n",
       "      <th>id</th>\n",
       "    </tr>\n",
       "  </thead>\n",
       "  <tbody>\n",
       "    <tr>\n",
       "      <th>135</th>\n",
       "      <td>math</td>\n",
       "      <td>60fa6ca19e8f310022c7d33f</td>\n",
       "    </tr>\n",
       "    <tr>\n",
       "      <th>115</th>\n",
       "      <td>adhoc implementation</td>\n",
       "      <td>602f525deb158c002271b469</td>\n",
       "    </tr>\n",
       "    <tr>\n",
       "      <th>131</th>\n",
       "      <td>game theory math geometry</td>\n",
       "      <td>6065e97c45a5d100227e07bd</td>\n",
       "    </tr>\n",
       "    <tr>\n",
       "      <th>55</th>\n",
       "      <td>adhoc strings</td>\n",
       "      <td>5d46f62486031f00223f4ce8</td>\n",
       "    </tr>\n",
       "    <tr>\n",
       "      <th>95</th>\n",
       "      <td>adhoc</td>\n",
       "      <td>5f828e1a253e190022125d37</td>\n",
       "    </tr>\n",
       "    <tr>\n",
       "      <th>29</th>\n",
       "      <td>adhoc strings</td>\n",
       "      <td>5c2cd2eee3e5da002279017e</td>\n",
       "    </tr>\n",
       "    <tr>\n",
       "      <th>157</th>\n",
       "      <td>adhoc dp</td>\n",
       "      <td>61d95ad22d678f002403d02c</td>\n",
       "    </tr>\n",
       "    <tr>\n",
       "      <th>51</th>\n",
       "      <td>strings</td>\n",
       "      <td>5d3c81e87cb1120022007f2f</td>\n",
       "    </tr>\n",
       "    <tr>\n",
       "      <th>101</th>\n",
       "      <td>adhoc</td>\n",
       "      <td>5fb0bdc8b5538800223c1c96</td>\n",
       "    </tr>\n",
       "    <tr>\n",
       "      <th>145</th>\n",
       "      <td>adhoc strings</td>\n",
       "      <td>614c65eba5479f002378776e</td>\n",
       "    </tr>\n",
       "    <tr>\n",
       "      <th>19</th>\n",
       "      <td>adhoc math</td>\n",
       "      <td>5b9e5acec81946001f697c1f</td>\n",
       "    </tr>\n",
       "    <tr>\n",
       "      <th>85</th>\n",
       "      <td>greedy sorting</td>\n",
       "      <td>5f3523bc72b45b0022f74c55</td>\n",
       "    </tr>\n",
       "    <tr>\n",
       "      <th>15</th>\n",
       "      <td>adhoc math</td>\n",
       "      <td>5b96a51f9808fa0020a42972</td>\n",
       "    </tr>\n",
       "    <tr>\n",
       "      <th>66</th>\n",
       "      <td>math</td>\n",
       "      <td>5e15efea73aedb0022810711</td>\n",
       "    </tr>\n",
       "    <tr>\n",
       "      <th>24</th>\n",
       "      <td>sortings strings</td>\n",
       "      <td>5bae7910fda1fc0021bbf24b</td>\n",
       "    </tr>\n",
       "    <tr>\n",
       "      <th>30</th>\n",
       "      <td>adhoc math</td>\n",
       "      <td>5c2dadc092a9930022a9dc85</td>\n",
       "    </tr>\n",
       "    <tr>\n",
       "      <th>132</th>\n",
       "      <td>graphs</td>\n",
       "      <td>6065da6245a5d100227e07a7</td>\n",
       "    </tr>\n",
       "  </tbody>\n",
       "</table>\n",
       "</div>"
      ],
      "text/plain": [
       "                          tags                        id\n",
       "135                       math  60fa6ca19e8f310022c7d33f\n",
       "115       adhoc implementation  602f525deb158c002271b469\n",
       "131  game theory math geometry  6065e97c45a5d100227e07bd\n",
       "55               adhoc strings  5d46f62486031f00223f4ce8\n",
       "95                       adhoc  5f828e1a253e190022125d37\n",
       "29               adhoc strings  5c2cd2eee3e5da002279017e\n",
       "157                   adhoc dp  61d95ad22d678f002403d02c\n",
       "51                     strings  5d3c81e87cb1120022007f2f\n",
       "101                      adhoc  5fb0bdc8b5538800223c1c96\n",
       "145              adhoc strings  614c65eba5479f002378776e\n",
       "19                  adhoc math  5b9e5acec81946001f697c1f\n",
       "85              greedy sorting  5f3523bc72b45b0022f74c55\n",
       "15                  adhoc math  5b96a51f9808fa0020a42972\n",
       "66                        math  5e15efea73aedb0022810711\n",
       "24            sortings strings  5bae7910fda1fc0021bbf24b\n",
       "30                  adhoc math  5c2dadc092a9930022a9dc85\n",
       "132                     graphs  6065da6245a5d100227e07a7"
      ]
     },
     "execution_count": 171,
     "metadata": {},
     "output_type": "execute_result"
    }
   ],
   "source": [
    "from sklearn.model_selection import train_test_split\n",
    "y=pd.DataFrame({'tags':data['tags']\n",
    ",   'id':data['id']\n",
    "})\n",
    "x=data.drop(['tags','id'],axis=1)\n",
    "x_train,x_test,y_train,y_test = train_test_split(x,y,test_size=0.1,random_state=42)\n",
    "y_test"
   ]
  },
  {
   "cell_type": "code",
   "execution_count": 172,
   "metadata": {},
   "outputs": [
    {
     "name": "stdout",
     "output_type": "stream",
     "text": [
      "id             object\n",
      "name           object\n",
      "code           object\n",
      "points          int64\n",
      "contestCode    object\n",
      "tags           string\n",
      "dtype: object\n",
      "id             object\n",
      "name           object\n",
      "code           object\n",
      "points          int64\n",
      "contestCode    object\n",
      "tags           string\n",
      "dtype: object\n",
      "id             object\n",
      "name           object\n",
      "code           object\n",
      "points          int64\n",
      "contestCode    object\n",
      "tags           string\n",
      "dtype: object\n",
      "id             object\n",
      "name           object\n",
      "code           object\n",
      "points          int64\n",
      "contestCode    object\n",
      "tags           string\n",
      "dtype: object\n",
      "id             object\n",
      "name           object\n",
      "code           object\n",
      "points          int64\n",
      "contestCode    object\n",
      "tags           string\n",
      "dtype: object\n",
      "id             object\n",
      "name           object\n",
      "code           object\n",
      "points          int64\n",
      "contestCode    object\n",
      "tags           string\n",
      "dtype: object\n",
      "id             object\n",
      "name           object\n",
      "code           object\n",
      "points          int64\n",
      "contestCode    object\n",
      "tags           string\n",
      "dtype: object\n",
      "id             object\n",
      "name           object\n",
      "code           object\n",
      "points          int64\n",
      "contestCode    object\n",
      "tags           string\n",
      "dtype: object\n",
      "id             object\n",
      "name           object\n",
      "code           object\n",
      "points          int64\n",
      "contestCode    object\n",
      "tags           string\n",
      "dtype: object\n",
      "id             object\n",
      "name           object\n",
      "code           object\n",
      "points          int64\n",
      "contestCode    object\n",
      "tags           string\n",
      "dtype: object\n",
      "id             object\n",
      "name           object\n",
      "code           object\n",
      "points          int64\n",
      "contestCode    object\n",
      "tags           string\n",
      "dtype: object\n",
      "0                          math\n",
      "1          adhoc implementation\n",
      "2     game theory math geometry\n",
      "3                 adhoc strings\n",
      "4                         adhoc\n",
      "5                      adhoc dp\n",
      "6                       strings\n",
      "7                    adhoc math\n",
      "8                greedy sorting\n",
      "9              sortings strings\n",
      "10                       graphs\n",
      "Name: tags, dtype: string 0                     math\n",
      "1     adhoc implementation\n",
      "2       math number theory\n",
      "3            adhoc strings\n",
      "4                    adhoc\n",
      "5                 adhoc dp\n",
      "6                  strings\n",
      "7               adhoc math\n",
      "8           sorting greedy\n",
      "9                  strings\n",
      "10                  graphs\n",
      "Name: tags, dtype: string\n"
     ]
    }
   ],
   "source": [
    "# Confusion Matrix\n",
    "from sklearn.metrics import confusion_matrix\n",
    "my_dict = dict()\n",
    "for i in range(len(y_test)):\n",
    "    my_dict[y_test.iloc[i]['tags']] =y_test.iloc[i]['id']\n",
    "\n",
    "y_act_test = pd.DataFrame(my_dict.items(), columns=['tags', 'id'])\n",
    "y_pred = pd.DataFrame(columns=[\"tags\"])\n",
    "for i in range(len(y_act_test)):\n",
    "    y_pred.loc[i] = recommended(y_act_test.iloc[i][0],y_act_test.iloc[i][1],lenght=1)[0][0]\n",
    "y_pred = y_pred['tags'].astype('string')\n",
    "y_act_test = y_act_test['tags'].astype('string')\n",
    "\n",
    "print(y_act_test,y_pred)"
   ]
  },
  {
   "cell_type": "code",
   "execution_count": 173,
   "metadata": {},
   "outputs": [
    {
     "name": "stdout",
     "output_type": "stream",
     "text": [
      "game theory math geometry math number theory\n",
      "greedy sorting sorting greedy\n",
      "sortings strings strings\n"
     ]
    }
   ],
   "source": [
    "cm = confusion_matrix(y_act_test,y_pred,labels = y_act_test.values)\n",
    "for i in range(len(y_act_test)):\n",
    "    if y_act_test.iloc[i] !=y_pred.iloc[i]:\n",
    "        print(y_act_test.iloc[i],y_pred.iloc[i])"
   ]
  },
  {
   "cell_type": "code",
   "execution_count": 174,
   "metadata": {},
   "outputs": [
    {
     "data": {
      "image/png": "[encoded data removed]",
      "text/plain": [
       "<Figure size 1440x1440 with 2 Axes>"
      ]
     },
     "metadata": {
      "needs_background": "light"
     },
     "output_type": "display_data"
    }
   ],
   "source": [
    "from sklearn.metrics import ConfusionMatrixDisplay\n",
    "import matplotlib.pyplot as plt\n",
    "disp = ConfusionMatrixDisplay(confusion_matrix=cm,\n",
    "                               display_labels=y_pred.values)\n",
    "fig, ax = plt.subplots(figsize=(20,20))\n",
    "disp.plot(ax=ax)\n",
    "plt.show()"
   ]
  }
 ],
 "metadata": {
  "interpreter": {
   "hash": "7085220a67382105aa5b4c484e92d6d1458310670eac078ca44f98015c944f25"
  },
  "kernelspec": {
   "display_name": "Python 3.9.7 64-bit",
   "language": "python",
   "name": "python3"
  },
  "language_info": {
   "codemirror_mode": {
    "name": "ipython",
    "version": 3
   },
   "file_extension": ".py",
   "mimetype": "text/x-python",
   "name": "python",
   "nbconvert_exporter": "python",
   "pygments_lexer": "ipython3",
   "version": "3.9.7"
  },
  "orig_nbformat": 4
 },
 "nbformat": 4,
 "nbformat_minor": 2
}
